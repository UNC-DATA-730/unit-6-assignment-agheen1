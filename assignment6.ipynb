{
 "cells": [
  {
   "cell_type": "markdown",
   "id": "df0d234f-1e1a-4495-8208-e177e7f527aa",
   "metadata": {},
   "source": [
    "Complete the exercises below For **Assignment #6**."
   ]
  },
  {
   "cell_type": "markdown",
   "id": "87391e24-01b9-48c0-b7c5-e7793174c708",
   "metadata": {},
   "source": [
    "Import the following items,\n",
    "- `pandas as pd`,\n",
    "- `LinearRegression` from the [`sklearn.linear_model`](https://scikit-learn.org/stable/modules/classes.html#module-sklearn.linear_model) module,\n",
    "- `make_column_transformer` from [`sklearn.compose`](https://scikit-learn.org/stable/modules/classes.html#module-sklearn.compose),\n",
    "- `OneHotEncoder` from [`sklearn.preprocessing`](https://scikit-learn.org/stable/modules/classes.html#module-sklearn.preprocessing),\n",
    "- `make_pipeline` from the [`sklearn.pipeline`](https://scikit-learn.org/stable/modules/classes.html#module-sklearn.pipeline) module, and,\n",
    "- everything from the [plotnine]() package."
   ]
  },
  {
   "cell_type": "code",
   "execution_count": 10,
   "id": "ffe7ecbc-415c-4986-b8a7-10e9aeafd61b",
   "metadata": {
    "tags": []
   },
   "outputs": [],
   "source": [
    "import pandas as pd \n",
    "from sklearn.linear_model import LinearRegression \n",
    "from sklearn.compose import make_column_transformer \n",
    "from sklearn.preprocessing import OneHotEncoder \n",
    "from sklearn.pipeline import make_pipeline \n",
    "from plotnine import *"
   ]
  },
  {
   "cell_type": "markdown",
   "id": "a8c917ce-495f-4026-9187-d4888a34326f",
   "metadata": {},
   "source": [
    "## Read in our data for this exercise"
   ]
  },
  {
   "cell_type": "markdown",
   "id": "5d0d08a5-7074-45a3-9b00-fa7f59956438",
   "metadata": {},
   "source": [
    "Use `pd.read_csv` to read in data from the following URL: http://bit.ly/2IgDF0E. Capture the data into a dataframe called `df_voles`.\n",
    "\n",
    "❗️Hint: just like in `R` we can read data directly from a URL."
   ]
  },
  {
   "cell_type": "code",
   "execution_count": 4,
   "id": "d1d4055a-3dac-48bc-a6ec-9879994b5f9b",
   "metadata": {
    "tags": []
   },
   "outputs": [],
   "source": [
    "df_voles = pd.read_csv('http://bit.ly/2IgDF0E')"
   ]
  },
  {
   "cell_type": "markdown",
   "id": "e00b9c9f-5a15-418a-89e6-8e14439b0c7e",
   "metadata": {},
   "source": [
    "Preview the data with the `.head()` method.\n",
    "\n",
    "The data contains the variables:\n",
    "\n",
    "- `site` for the id of each random study site (each case or row is a survey/trapping site)\n",
    "- `voles` for the vole count at each site\n",
    "- `veg` for the percent cover of vegetation at each site\n",
    "- `soil` identifying a site as “moist” or “dry”"
   ]
  },
  {
   "cell_type": "code",
   "execution_count": 5,
   "id": "0d254d36-6385-4de1-b9bb-ee5a0f935ede",
   "metadata": {
    "tags": []
   },
   "outputs": [
    {
     "data": {
      "text/html": [
       "<div>\n",
       "<style scoped>\n",
       "    .dataframe tbody tr th:only-of-type {\n",
       "        vertical-align: middle;\n",
       "    }\n",
       "\n",
       "    .dataframe tbody tr th {\n",
       "        vertical-align: top;\n",
       "    }\n",
       "\n",
       "    .dataframe thead th {\n",
       "        text-align: right;\n",
       "    }\n",
       "</style>\n",
       "<table border=\"1\" class=\"dataframe\">\n",
       "  <thead>\n",
       "    <tr style=\"text-align: right;\">\n",
       "      <th></th>\n",
       "      <th>site</th>\n",
       "      <th>voles</th>\n",
       "      <th>veg</th>\n",
       "      <th>soil</th>\n",
       "    </tr>\n",
       "  </thead>\n",
       "  <tbody>\n",
       "    <tr>\n",
       "      <th>0</th>\n",
       "      <td>1</td>\n",
       "      <td>17</td>\n",
       "      <td>4</td>\n",
       "      <td>moist</td>\n",
       "    </tr>\n",
       "    <tr>\n",
       "      <th>1</th>\n",
       "      <td>2</td>\n",
       "      <td>30</td>\n",
       "      <td>33</td>\n",
       "      <td>moist</td>\n",
       "    </tr>\n",
       "    <tr>\n",
       "      <th>2</th>\n",
       "      <td>3</td>\n",
       "      <td>54</td>\n",
       "      <td>94</td>\n",
       "      <td>moist</td>\n",
       "    </tr>\n",
       "    <tr>\n",
       "      <th>3</th>\n",
       "      <td>4</td>\n",
       "      <td>49</td>\n",
       "      <td>64</td>\n",
       "      <td>moist</td>\n",
       "    </tr>\n",
       "    <tr>\n",
       "      <th>4</th>\n",
       "      <td>5</td>\n",
       "      <td>34</td>\n",
       "      <td>32</td>\n",
       "      <td>moist</td>\n",
       "    </tr>\n",
       "  </tbody>\n",
       "</table>\n",
       "</div>"
      ],
      "text/plain": [
       "   site  voles  veg   soil\n",
       "0     1     17    4  moist\n",
       "1     2     30   33  moist\n",
       "2     3     54   94  moist\n",
       "3     4     49   64  moist\n",
       "4     5     34   32  moist"
      ]
     },
     "execution_count": 5,
     "metadata": {},
     "output_type": "execute_result"
    }
   ],
   "source": [
    "df_voles.head()"
   ]
  },
  {
   "cell_type": "markdown",
   "id": "f2db9624-5099-4e06-8866-63d2bbc5625b",
   "metadata": {},
   "source": [
    "## EDA"
   ]
  },
  {
   "cell_type": "markdown",
   "id": "57f31990-7edd-439c-863b-ff3193e89d20",
   "metadata": {},
   "source": [
    "Let's make a few figures from `df_voles` using `ggplot` from **Plotnine**."
   ]
  },
  {
   "cell_type": "markdown",
   "id": "29c136cc-c5bc-418f-811b-690ca86de90b",
   "metadata": {},
   "source": [
    "In the cell below plot the `voles` variable (y-axis) versus the `veg` variable and color points by the `soil` variable."
   ]
  },
  {
   "cell_type": "code",
   "execution_count": 11,
   "id": "aaca4f0d-de37-4ee9-8248-e57a1c962cd8",
   "metadata": {
    "tags": []
   },
   "outputs": [
    {
     "data": {
      "image/png": "[encoded data removed]",
      "text/plain": [
       "<Figure size 640x480 with 1 Axes>"
      ]
     },
     "execution_count": 11,
     "metadata": {},
     "output_type": "execute_result"
    }
   ],
   "source": [
    "p = (\n",
    "    ggplot(df_voles, aes(x = 'veg', y = 'voles', color = 'soil')) +\n",
    "        geom_point()\n",
    ")\n",
    "\n",
    "p.draw()"
   ]
  },
  {
   "cell_type": "markdown",
   "id": "53f6ed9a-5700-40a5-aa86-4cfccc2ad9a2",
   "metadata": {},
   "source": [
    "## Modeling"
   ]
  },
  {
   "cell_type": "markdown",
   "id": "87017459-117a-4638-8337-275c0cbe9ad5",
   "metadata": {},
   "source": [
    "In the cell below, model `voles` with `soil` and `veg` as predictors in a parallel slopes model. \n",
    "\n",
    "Here are the steps I would take:\n",
    "1. Make a column transformer with `make_column_transformer` that transforms `soil` with `OneHotEncoder(drop=\"first\")` and passes 'veg' through untransformed.\n",
    "2. Create a pipeline with `make_pipeline` using the column transformer from above and `LinearRegression()` as my model. \n",
    "3. Get the `X` (training data) and `y` predictor from `df_voles`\n",
    "4. Use the `.fit()` method for the pipeline to train the model with `X` and `y`. "
   ]
  },
  {
   "cell_type": "code",
   "execution_count": 24,
   "id": "4e3be292-b264-4a01-9f77-f0f9274e32bd",
   "metadata": {
    "tags": []
   },
   "outputs": [],
   "source": [
    "ct = make_column_transformer(\n",
    "    ['passthrough', ['veg']],\n",
    "    [OneHotEncoder(drop = 'first'), ['soil']]\n",
    "     )"
   ]
  },
  {
   "cell_type": "code",
   "execution_count": 13,
   "id": "e83f91eb-9251-43d4-bc08-a1fe838d7eb5",
   "metadata": {
    "tags": []
   },
   "outputs": [],
   "source": [
    "mod = LinearRegression()"
   ]
  },
  {
   "cell_type": "code",
   "execution_count": 25,
   "id": "6849584a-36d9-4ab4-b290-f62a570a2bb4",
   "metadata": {
    "tags": []
   },
   "outputs": [],
   "source": [
    "pl = make_pipeline(\n",
    "    ct,\n",
    "    mod\n",
    ")"
   ]
  },
  {
   "cell_type": "code",
   "execution_count": 55,
   "id": "9e72aaa3-c515-47ae-8bf9-54c177d0539b",
   "metadata": {
    "tags": []
   },
   "outputs": [],
   "source": [
    "X, y = df_voles.loc[:, df_voles.columns != 'voles'], df_voles['voles']"
   ]
  },
  {
   "cell_type": "code",
   "execution_count": 56,
   "id": "630d93a5-da36-41ff-808b-d99056f36067",
   "metadata": {
    "tags": []
   },
   "outputs": [
    {
     "data": {
      "text/html": [
       "<div>\n",
       "<style scoped>\n",
       "    .dataframe tbody tr th:only-of-type {\n",
       "        vertical-align: middle;\n",
       "    }\n",
       "\n",
       "    .dataframe tbody tr th {\n",
       "        vertical-align: top;\n",
       "    }\n",
       "\n",
       "    .dataframe thead th {\n",
       "        text-align: right;\n",
       "    }\n",
       "</style>\n",
       "<table border=\"1\" class=\"dataframe\">\n",
       "  <thead>\n",
       "    <tr style=\"text-align: right;\">\n",
       "      <th></th>\n",
       "      <th>site</th>\n",
       "      <th>veg</th>\n",
       "      <th>soil</th>\n",
       "    </tr>\n",
       "  </thead>\n",
       "  <tbody>\n",
       "    <tr>\n",
       "      <th>0</th>\n",
       "      <td>1</td>\n",
       "      <td>4</td>\n",
       "      <td>moist</td>\n",
       "    </tr>\n",
       "    <tr>\n",
       "      <th>1</th>\n",
       "      <td>2</td>\n",
       "      <td>33</td>\n",
       "      <td>moist</td>\n",
       "    </tr>\n",
       "    <tr>\n",
       "      <th>2</th>\n",
       "      <td>3</td>\n",
       "      <td>94</td>\n",
       "      <td>moist</td>\n",
       "    </tr>\n",
       "    <tr>\n",
       "      <th>3</th>\n",
       "      <td>4</td>\n",
       "      <td>64</td>\n",
       "      <td>moist</td>\n",
       "    </tr>\n",
       "    <tr>\n",
       "      <th>4</th>\n",
       "      <td>5</td>\n",
       "      <td>32</td>\n",
       "      <td>moist</td>\n",
       "    </tr>\n",
       "  </tbody>\n",
       "</table>\n",
       "</div>"
      ],
      "text/plain": [
       "   site  veg   soil\n",
       "0     1    4  moist\n",
       "1     2   33  moist\n",
       "2     3   94  moist\n",
       "3     4   64  moist\n",
       "4     5   32  moist"
      ]
     },
     "execution_count": 56,
     "metadata": {},
     "output_type": "execute_result"
    }
   ],
   "source": [
    "X.head()"
   ]
  },
  {
   "cell_type": "code",
   "execution_count": 57,
   "id": "2c7abbf3-22f9-439c-ba81-2b61646f553d",
   "metadata": {
    "tags": []
   },
   "outputs": [
    {
     "data": {
      "text/plain": [
       "0    17\n",
       "1    30\n",
       "2    54\n",
       "3    49\n",
       "4    34\n",
       "Name: voles, dtype: int64"
      ]
     },
     "execution_count": 57,
     "metadata": {},
     "output_type": "execute_result"
    }
   ],
   "source": [
    "y.head()"
   ]
  },
  {
   "cell_type": "code",
   "execution_count": 58,
   "id": "7914a7b7-ef33-46eb-a5b2-8d57229811af",
   "metadata": {
    "tags": []
   },
   "outputs": [],
   "source": [
    "fittedpl = pl.fit(X,y)"
   ]
  },
  {
   "cell_type": "markdown",
   "id": "e962265e-ea51-420b-a4ac-2b1d6cdfb421",
   "metadata": {},
   "source": [
    "Use the function below to get the parameter values for your model from above."
   ]
  },
  {
   "cell_type": "code",
   "execution_count": 27,
   "id": "661261c1-c258-41d1-a998-eb223e41ad6d",
   "metadata": {
    "tags": []
   },
   "outputs": [],
   "source": [
    "def get_regression_table(pipeline):\n",
    "    terms=list(pipeline['columntransformer'].get_feature_names_out()) + ['intercept']\n",
    "    mod = pipeline['linearregression']\n",
    "    estimates = list(mod.coef_) + [mod.intercept_]\n",
    "    data = dict(\n",
    "        term=terms, \n",
    "        estimate=estimates,\n",
    "    )\n",
    "    return pd.DataFrame(data)"
   ]
  },
  {
   "cell_type": "code",
   "execution_count": 63,
   "id": "4f4f7c7e-4b6b-4e37-ab93-8e29f354596a",
   "metadata": {
    "tags": []
   },
   "outputs": [
    {
     "data": {
      "text/html": [
       "<div>\n",
       "<style scoped>\n",
       "    .dataframe tbody tr th:only-of-type {\n",
       "        vertical-align: middle;\n",
       "    }\n",
       "\n",
       "    .dataframe tbody tr th {\n",
       "        vertical-align: top;\n",
       "    }\n",
       "\n",
       "    .dataframe thead th {\n",
       "        text-align: right;\n",
       "    }\n",
       "</style>\n",
       "<table border=\"1\" class=\"dataframe\">\n",
       "  <thead>\n",
       "    <tr style=\"text-align: right;\">\n",
       "      <th></th>\n",
       "      <th>term</th>\n",
       "      <th>estimate</th>\n",
       "    </tr>\n",
       "  </thead>\n",
       "  <tbody>\n",
       "    <tr>\n",
       "      <th>0</th>\n",
       "      <td>passthrough__veg</td>\n",
       "      <td>0.259069</td>\n",
       "    </tr>\n",
       "    <tr>\n",
       "      <th>1</th>\n",
       "      <td>onehotencoder__soil_moist</td>\n",
       "      <td>9.100298</td>\n",
       "    </tr>\n",
       "    <tr>\n",
       "      <th>2</th>\n",
       "      <td>intercept</td>\n",
       "      <td>15.464026</td>\n",
       "    </tr>\n",
       "  </tbody>\n",
       "</table>\n",
       "</div>"
      ],
      "text/plain": [
       "                        term   estimate\n",
       "0           passthrough__veg   0.259069\n",
       "1  onehotencoder__soil_moist   9.100298\n",
       "2                  intercept  15.464026"
      ]
     },
     "execution_count": 63,
     "metadata": {},
     "output_type": "execute_result"
    }
   ],
   "source": [
    "get_regression_table1(fittedpl)"
   ]
  },
  {
   "cell_type": "markdown",
   "id": "51fedd24-d906-4cf3-97d7-abc1cc42b01d",
   "metadata": {},
   "source": [
    "❓Would protecting a site with high vegetation cover be a more effective way to preserve the vole population than a site with low vegetation cover? Why?\n",
    "\n",
    "(**Hint:** use your chart above to answer. It's also possible to leverage your regression parameters if you chose to model `voles` with a parallel slopes model.)\n",
    "\n",
    "**Answer:** "
   ]
  },
  {
   "cell_type": "markdown",
   "id": "700a4368-16eb-4976-bdad-2b21c54da871",
   "metadata": {},
   "source": [
    "Protecting a site with high vegetation would be a more effective way to preserve the vole population. There appears to be a positive linear relationship between veg and vole population."
   ]
  },
  {
   "cell_type": "code",
   "execution_count": 66,
   "id": "efd2908c-7fad-4da5-9fb3-c6c7c289c0ed",
   "metadata": {
    "tags": []
   },
   "outputs": [],
   "source": [
    "df_voles_w_pred = df_voles.assign(pred_voles=lambda df_:pl.predict(df_))"
   ]
  },
  {
   "cell_type": "code",
   "execution_count": 67,
   "id": "1485eb7f-1a2b-412e-abc3-54ad36917124",
   "metadata": {
    "tags": []
   },
   "outputs": [
    {
     "data": {
      "image/png": "[encoded data removed]",
      "text/plain": [
       "<Figure size 640x480 with 1 Axes>"
      ]
     },
     "execution_count": 67,
     "metadata": {},
     "output_type": "execute_result"
    }
   ],
   "source": [
    "p = (\n",
    "    ggplot(df_voles_w_pred, aes(x = 'veg', y = 'voles', color = 'soil')) +\n",
    "        geom_point()+\n",
    "        geom_line(aes(y = 'pred_voles'), size = 1.5)\n",
    ")\n",
    "\n",
    "p.draw()"
   ]
  },
  {
   "cell_type": "markdown",
   "id": "0c4c842e-126d-4734-9a04-10895770b55f",
   "metadata": {},
   "source": [
    "❓Dry sites typically cost a lot less to purchase and maintain for conservation organizations. Thus, if a conservation organization decides to purchase a few dry sites, roughly what percent cover of vegetation do they need to maintain on these sites (at a minimum) to support a population of about 30 voles at the site?\n",
    "\n",
    "(**Hint:** In your chart above, draw a line at voles = 30 using `geom_hline` and make a rough estimate for this answer...)\n",
    "\n",
    "**Answer:**"
   ]
  },
  {
   "cell_type": "markdown",
   "id": "46d29083-5c8d-42d2-ab2b-9ff9d27de6a0",
   "metadata": {},
   "source": [
    "They would need a minimum of 55-60% vegetation to support a population of 30 voles"
   ]
  },
  {
   "cell_type": "code",
   "execution_count": 72,
   "id": "c70010f1-ae44-42f4-be50-64110aa6d0da",
   "metadata": {
    "tags": []
   },
   "outputs": [
    {
     "data": {
      "image/png": "[encoded data removed]",
      "text/plain": [
       "<Figure size 640x480 with 1 Axes>"
      ]
     },
     "execution_count": 72,
     "metadata": {},
     "output_type": "execute_result"
    }
   ],
   "source": [
    "p = (\n",
    "    ggplot(df_voles_w_pred, aes(x = 'veg', y = 'voles', color = 'soil')) +\n",
    "        geom_point()+\n",
    "        geom_line(aes(y = 'pred_voles'), size = 1.5) + \n",
    "        geom_hline( aes(yintercept =  30))\n",
    ")\n",
    "\n",
    "p.draw()"
   ]
  },
  {
   "cell_type": "markdown",
   "id": "6166ce22-a811-4f8e-8daa-8cb09194c827",
   "metadata": {},
   "source": [
    "❓The Nature Conservancy is looking at purchasing a site for this species (in the same study area) that has moist soil and 40% vegetation cover. Using the regression equation what would you predict as the possible vole population the site might be able to support?\n",
    "\n",
    "(**Hint:** Use `.predict(pd.DataFrame({\"soil\": [\"moist\"], \"veg\": [40]}))` with yout pipeline.)\n",
    "\n",
    "**Answer:**"
   ]
  },
  {
   "cell_type": "markdown",
   "id": "04c78cee-81bf-4812-a33d-cb01e2270819",
   "metadata": {},
   "source": [
    "Our model predicts the site would be able to support a population of 35 voles."
   ]
  },
  {
   "cell_type": "code",
   "execution_count": 73,
   "id": "1bfb253a-3eb1-4d80-a928-2605407c68f6",
   "metadata": {
    "tags": []
   },
   "outputs": [
    {
     "data": {
      "text/plain": [
       "array([34.92708151])"
      ]
     },
     "execution_count": 73,
     "metadata": {},
     "output_type": "execute_result"
    }
   ],
   "source": [
    "pl.predict(pd.DataFrame({'soil':['moist'],'veg':[40]}))"
   ]
  },
  {
   "cell_type": "code",
   "execution_count": null,
   "id": "db141170-15bf-4bf6-ae45-8b1008f9fdbb",
   "metadata": {},
   "outputs": [],
   "source": []
  }
 ],
 "metadata": {
  "kernelspec": {
   "display_name": ".conda-data730:Python",
   "language": "python",
   "name": "conda-env-.conda-data730-py"
  },
  "language_info": {
   "codemirror_mode": {
    "name": "ipython",
    "version": 3
   },
   "file_extension": ".py",
   "mimetype": "text/x-python",
   "name": "python",
   "nbconvert_exporter": "python",
   "pygments_lexer": "ipython3",
   "version": "3.9.19"
  }
 },
 "nbformat": 4,
 "nbformat_minor": 5
}
